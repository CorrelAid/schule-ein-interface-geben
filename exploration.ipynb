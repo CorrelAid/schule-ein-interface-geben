{
 "cells": [
  {
   "cell_type": "code",
   "execution_count": 1,
   "id": "df6ece11",
   "metadata": {},
   "outputs": [],
   "source": [
    "import duckdb\n",
    "import os\n",
    "import polars as pl\n",
    "import polars.selectors as cs\n",
    "\n",
    "import seaborn as sns\n",
    "import matplotlib.pyplot as plt\n",
    "from bs4 import BeautifulSoup \n",
    "import markdown\n",
    "import requests\n",
    "import re\n",
    "import concurrent.futures\n",
    "\n",
    "from markdownify import markdownify as md\n",
    "\n",
    "from lib.models import Post,Section\n",
    "from lib.transform import transform_api_results\n",
    "from lib.tree_functions import import_tree_from_json, find_node_by_id\n",
    "from lib.config import pipeline_name, db_name, tree_json_path, download_subpage\n",
    "\n",
    "from selenium import webdriver\n",
    "from selenium.webdriver.common.by import By\n",
    "\n",
    "import time"
   ]
  },
  {
   "cell_type": "code",
   "execution_count": 2,
   "id": "06b71170",
   "metadata": {},
   "outputs": [
    {
     "name": "stdout",
     "output_type": "stream",
     "text": [
      "AnyNode(data_id='36', data_level='0', data_parent_id='0', name='Pimp my School Downloads')\n"
     ]
    }
   ],
   "source": [
    "root_node = import_tree_from_json(tree_json_path)\n",
    "print(root_node)"
   ]
  },
  {
   "cell_type": "code",
   "execution_count": 3,
   "id": "ebae3d73",
   "metadata": {},
   "outputs": [
    {
     "name": "stdout",
     "output_type": "stream",
     "text": [
      "50\n"
     ]
    }
   ],
   "source": [
    "df = transform_api_results(pipeline_name, db_name)"
   ]
  },
  {
   "cell_type": "code",
   "execution_count": 4,
   "id": "1b636571",
   "metadata": {},
   "outputs": [
    {
     "data": {
      "text/html": [
       "<div><style>\n",
       ".dataframe > thead > tr,\n",
       ".dataframe > tbody > tr {\n",
       "  text-align: right;\n",
       "  white-space: pre-wrap;\n",
       "}\n",
       "</style>\n",
       "<small>shape: (5, 7)</small><table border=\"1\" class=\"dataframe\"><thead><tr><th>id</th><th>date</th><th>title</th><th>content</th><th>stage</th><th>topics</th><th>tool_types</th></tr><tr><td>i64</td><td>datetime[μs, Europe/Berlin]</td><td>str</td><td>str</td><td>str</td><td>list[str]</td><td>list[str]</td></tr></thead><tbody><tr><td>5821</td><td>2022-05-30 00:00:00 CEST</td><td>&quot;Ideen Öffentlichkeitsarbeit&quot;</td><td>&quot;\t\t&lt;div data-elementor-type=&quot;wp…</td><td>&quot;grundlagen&quot;</td><td>[&quot;oeffentlichkeitsarbeit&quot;]</td><td>[&quot;praesentation&quot;]</td></tr><tr><td>6199</td><td>2022-10-04 00:00:00 CEST</td><td>&quot;Wie schülerfreundlich sind uns…</td><td>&quot;\t\t&lt;div data-elementor-type=&quot;wp…</td><td>&quot;sv-alltag&quot;</td><td>[&quot;ideenfindung&quot;, &quot;motivation&quot;, … &quot;zeitmanagement&quot;]</td><td>[&quot;selbsttest&quot;]</td></tr><tr><td>6552</td><td>2022-12-08 00:00:00 CET</td><td>&quot;SV-Profile&quot;</td><td>&quot;\t\t&lt;div data-elementor-type=&quot;wp…</td><td>&quot;sv-alltag&quot;</td><td>[&quot;ideenfindung&quot;, &quot;motivation&quot;, … &quot;zeitmanagement&quot;]</td><td>[&quot;selbsttest&quot;]</td></tr><tr><td>6008</td><td>2022-06-09 00:00:00 CEST</td><td>&quot;Rechte Thüringen&quot;</td><td>&quot;\t\t&lt;div data-elementor-type=&quot;wp…</td><td>&quot;grundlagen&quot;</td><td>[&quot;rechte&quot;]</td><td>[&quot;praesentation&quot;]</td></tr><tr><td>8151</td><td>2025-07-22 00:00:00 CEST</td><td>&quot;Rechte Quiz NRW&quot;</td><td>&quot;\t\t&lt;div data-elementor-type=&quot;wp…</td><td>&quot;grundlagen&quot;</td><td>[&quot;rechte-nrw&quot;]</td><td>[&quot;praesentation&quot;]</td></tr></tbody></table></div>"
      ],
      "text/plain": [
       "shape: (5, 7)\n",
       "┌──────┬───────────────┬───────────────┬───────────────┬────────────┬───────────────┬──────────────┐\n",
       "│ id   ┆ date          ┆ title         ┆ content       ┆ stage      ┆ topics        ┆ tool_types   │\n",
       "│ ---  ┆ ---           ┆ ---           ┆ ---           ┆ ---        ┆ ---           ┆ ---          │\n",
       "│ i64  ┆ datetime[μs,  ┆ str           ┆ str           ┆ str        ┆ list[str]     ┆ list[str]    │\n",
       "│      ┆ Europe/Berlin ┆               ┆               ┆            ┆               ┆              │\n",
       "│      ┆ ]             ┆               ┆               ┆            ┆               ┆              │\n",
       "╞══════╪═══════════════╪═══════════════╪═══════════════╪════════════╪═══════════════╪══════════════╡\n",
       "│ 5821 ┆ 2022-05-30    ┆ Ideen Öffentl ┆ \t\t<div data-e ┆ grundlagen ┆ [\"oeffentlich ┆ [\"praesentat │\n",
       "│      ┆ 00:00:00 CEST ┆ ichkeitsarbei ┆ lementor-type ┆            ┆ keitsarbeit\"] ┆ ion\"]        │\n",
       "│      ┆               ┆ t             ┆ =\"wp…         ┆            ┆               ┆              │\n",
       "│ 6199 ┆ 2022-10-04    ┆ Wie schülerfr ┆ \t\t<div data-e ┆ sv-alltag  ┆ [\"ideenfindun ┆ [\"selbsttest │\n",
       "│      ┆ 00:00:00 CEST ┆ eundlich sind ┆ lementor-type ┆            ┆ g\", \"motivati ┆ \"]           │\n",
       "│      ┆               ┆ uns…          ┆ =\"wp…         ┆            ┆ on\",…         ┆              │\n",
       "│ 6552 ┆ 2022-12-08    ┆ SV-Profile    ┆ \t\t<div data-e ┆ sv-alltag  ┆ [\"ideenfindun ┆ [\"selbsttest │\n",
       "│      ┆ 00:00:00 CET  ┆               ┆ lementor-type ┆            ┆ g\", \"motivati ┆ \"]           │\n",
       "│      ┆               ┆               ┆ =\"wp…         ┆            ┆ on\",…         ┆              │\n",
       "│ 6008 ┆ 2022-06-09    ┆ Rechte        ┆ \t\t<div data-e ┆ grundlagen ┆ [\"rechte\"]    ┆ [\"praesentat │\n",
       "│      ┆ 00:00:00 CEST ┆ Thüringen     ┆ lementor-type ┆            ┆               ┆ ion\"]        │\n",
       "│      ┆               ┆               ┆ =\"wp…         ┆            ┆               ┆              │\n",
       "│ 8151 ┆ 2025-07-22    ┆ Rechte Quiz   ┆ \t\t<div data-e ┆ grundlagen ┆ [\"rechte-nrw\" ┆ [\"praesentat │\n",
       "│      ┆ 00:00:00 CEST ┆ NRW           ┆ lementor-type ┆            ┆ ]             ┆ ion\"]        │\n",
       "│      ┆               ┆               ┆ =\"wp…         ┆            ┆               ┆              │\n",
       "└──────┴───────────────┴───────────────┴───────────────┴────────────┴───────────────┴──────────────┘"
      ]
     },
     "execution_count": 4,
     "metadata": {},
     "output_type": "execute_result"
    }
   ],
   "source": [
    "df.head()"
   ]
  },
  {
   "cell_type": "code",
   "execution_count": null,
   "id": "2d10ace4",
   "metadata": {},
   "outputs": [
    {
     "data": {
      "text/html": [
       "<div><style>\n",
       ".dataframe > thead > tr,\n",
       ".dataframe > tbody > tr {\n",
       "  text-align: right;\n",
       "  white-space: pre-wrap;\n",
       "}\n",
       "</style>\n",
       "<small>shape: (5, 2)</small><table border=\"1\" class=\"dataframe\"><thead><tr><th>stage</th><th>count</th></tr><tr><td>str</td><td>u32</td></tr></thead><tbody><tr><td>&quot;grundlagen&quot;</td><td>22</td></tr><tr><td>null</td><td>11</td></tr><tr><td>&quot;sv-alltag&quot;</td><td>6</td></tr><tr><td>&quot;profis&quot;</td><td>6</td></tr><tr><td>&quot;fortgeschrittene&quot;</td><td>5</td></tr></tbody></table></div>"
      ],
      "text/plain": [
       "shape: (5, 2)\n",
       "┌──────────────────┬───────┐\n",
       "│ stage            ┆ count │\n",
       "│ ---              ┆ ---   │\n",
       "│ str              ┆ u32   │\n",
       "╞══════════════════╪═══════╡\n",
       "│ grundlagen       ┆ 22    │\n",
       "│ null             ┆ 11    │\n",
       "│ sv-alltag        ┆ 6     │\n",
       "│ profis           ┆ 6     │\n",
       "│ fortgeschrittene ┆ 5     │\n",
       "└──────────────────┴───────┘"
      ]
     },
     "execution_count": 5,
     "metadata": {},
     "output_type": "execute_result"
    }
   ],
   "source": [
    "df[\"stage\"].value_counts().sort(\"count\", descending=True)"
   ]
  },
  {
   "cell_type": "code",
   "execution_count": 6,
   "id": "b3501560",
   "metadata": {},
   "outputs": [
    {
     "data": {
      "text/plain": [
       "['sv-alltag', 'grundlagen', None, 'fortgeschrittene', 'profis']"
      ]
     },
     "execution_count": 6,
     "metadata": {},
     "output_type": "execute_result"
    }
   ],
   "source": [
    "df[\"stage\"].unique().to_list()"
   ]
  },
  {
   "cell_type": "code",
   "execution_count": 7,
   "id": "83d60523",
   "metadata": {},
   "outputs": [
    {
     "data": {
      "text/html": [
       "<div><style>\n",
       ".dataframe > thead > tr,\n",
       ".dataframe > tbody > tr {\n",
       "  text-align: right;\n",
       "  white-space: pre-wrap;\n",
       "}\n",
       "</style>\n",
       "<small>shape: (11, 2)</small><table border=\"1\" class=\"dataframe\"><thead><tr><th>tool_types</th><th>count</th></tr><tr><td>list[str]</td><td>u32</td></tr></thead><tbody><tr><td>[&quot;praesentation&quot;]</td><td>15</td></tr><tr><td>[&quot;methode&quot;]</td><td>10</td></tr><tr><td>[&quot;infografik&quot;]</td><td>7</td></tr><tr><td>[&quot;selbsttest&quot;]</td><td>5</td></tr><tr><td>[&quot;video&quot;]</td><td>4</td></tr><tr><td>&hellip;</td><td>&hellip;</td></tr><tr><td>[&quot;vorlage&quot;]</td><td>2</td></tr><tr><td>[&quot;methode&quot;, &quot;vorlage&quot;]</td><td>1</td></tr><tr><td>[&quot;infografik&quot;, &quot;vorlage&quot;]</td><td>1</td></tr><tr><td>[&quot;infografik&quot;, &quot;praesentation&quot;]</td><td>1</td></tr><tr><td>[&quot;praesentation&quot;, &quot;vorlage&quot;]</td><td>1</td></tr></tbody></table></div>"
      ],
      "text/plain": [
       "shape: (11, 2)\n",
       "┌─────────────────────────────────┬───────┐\n",
       "│ tool_types                      ┆ count │\n",
       "│ ---                             ┆ ---   │\n",
       "│ list[str]                       ┆ u32   │\n",
       "╞═════════════════════════════════╪═══════╡\n",
       "│ [\"praesentation\"]               ┆ 15    │\n",
       "│ [\"methode\"]                     ┆ 10    │\n",
       "│ [\"infografik\"]                  ┆ 7     │\n",
       "│ [\"selbsttest\"]                  ┆ 5     │\n",
       "│ [\"video\"]                       ┆ 4     │\n",
       "│ …                               ┆ …     │\n",
       "│ [\"vorlage\"]                     ┆ 2     │\n",
       "│ [\"methode\", \"vorlage\"]          ┆ 1     │\n",
       "│ [\"infografik\", \"vorlage\"]       ┆ 1     │\n",
       "│ [\"infografik\", \"praesentation\"… ┆ 1     │\n",
       "│ [\"praesentation\", \"vorlage\"]    ┆ 1     │\n",
       "└─────────────────────────────────┴───────┘"
      ]
     },
     "execution_count": 7,
     "metadata": {},
     "output_type": "execute_result"
    }
   ],
   "source": [
    "df[\"tool_types\"].value_counts().sort(\"count\", descending=True)"
   ]
  },
  {
   "cell_type": "code",
   "execution_count": 8,
   "id": "eff24330",
   "metadata": {},
   "outputs": [],
   "source": [
    "def count_plot(df, col):\n",
    "    lst = [x for xs in df[col] for x in xs]\n",
    "\n",
    "    series = pl.Series(col, lst)\n",
    "    counts_df = (\n",
    "        pl.DataFrame([series])\n",
    "        .unpivot()\n",
    "        .group_by(\"value\")\n",
    "        .len()\n",
    "        .sort(\"len\", descending=True)\n",
    "        .rename({\"value\": col, \"len\": \"count\"})\n",
    "    )\n",
    "\n",
    "    sns.barplot(data=counts_df, y=col, x=\"count\", order=counts_df[col])\n",
    "    plt.show()"
   ]
  },
  {
   "cell_type": "code",
   "execution_count": 9,
   "id": "6f5c2842",
   "metadata": {},
   "outputs": [
    {
     "data": {
      "image/png": "[encoded data removed]",
      "text/plain": [
       "<Figure size 640x480 with 1 Axes>"
      ]
     },
     "metadata": {},
     "output_type": "display_data"
    }
   ],
   "source": [
    "count_plot(df, \"tool_types\")"
   ]
  },
  {
   "cell_type": "code",
   "execution_count": 10,
   "id": "79afec31",
   "metadata": {},
   "outputs": [
    {
     "data": {
      "text/plain": [
       "['praesentation',\n",
       " 'methode',\n",
       " 'video',\n",
       " 'download',\n",
       " 'vorlage',\n",
       " 'selbsttest',\n",
       " 'infografik']"
      ]
     },
     "execution_count": 10,
     "metadata": {},
     "output_type": "execute_result"
    }
   ],
   "source": [
    "lst = [x for xs in df[\"tool_types\"] for x in xs]\n",
    "list(set(lst))"
   ]
  },
  {
   "cell_type": "code",
   "execution_count": 11,
   "id": "521bd2cb",
   "metadata": {},
   "outputs": [
    {
     "data": {
      "image/png": "[encoded data removed]",
      "text/plain": [
       "<Figure size 640x480 with 1 Axes>"
      ]
     },
     "metadata": {},
     "output_type": "display_data"
    }
   ],
   "source": [
    "count_plot(df, \"topics\")"
   ]
  },
  {
   "cell_type": "code",
   "execution_count": null,
   "id": "1509866a",
   "metadata": {},
   "outputs": [],
   "source": []
  },
  {
   "cell_type": "code",
   "execution_count": 12,
   "id": "2b204ccf",
   "metadata": {},
   "outputs": [
    {
     "ename": "NameError",
     "evalue": "name 'section_df' is not defined",
     "output_type": "error",
     "traceback": [
      "\u001b[31m---------------------------------------------------------------------------\u001b[39m",
      "\u001b[31mNameError\u001b[39m                                 Traceback (most recent call last)",
      "\u001b[36mCell\u001b[39m\u001b[36m \u001b[39m\u001b[32mIn[12]\u001b[39m\u001b[32m, line 1\u001b[39m\n\u001b[32m----> \u001b[39m\u001b[32m1\u001b[39m \u001b[43msection_df\u001b[49m[\u001b[33m\"\u001b[39m\u001b[33mtype\u001b[39m\u001b[33m\"\u001b[39m].value_counts()\n",
      "\u001b[31mNameError\u001b[39m: name 'section_df' is not defined"
     ]
    }
   ],
   "source": [
    "section_df[\"type\"].value_counts()"
   ]
  },
  {
   "cell_type": "markdown",
   "id": "ab3805a7",
   "metadata": {},
   "source": [
    "### Download File Types"
   ]
  },
  {
   "cell_type": "code",
   "execution_count": null,
   "id": "23606ba7",
   "metadata": {},
   "outputs": [
    {
     "data": {
      "text/html": [
       "<div><style>\n",
       ".dataframe > thead > tr,\n",
       ".dataframe > tbody > tr {\n",
       "  text-align: right;\n",
       "  white-space: pre-wrap;\n",
       "}\n",
       "</style>\n",
       "<small>shape: (5, 2)</small><table border=\"1\" class=\"dataframe\"><thead><tr><th>file_type</th><th>count</th></tr><tr><td>str</td><td>u32</td></tr></thead><tbody><tr><td>&quot;mp4&quot;</td><td>4</td></tr><tr><td>&quot;pdf&quot;</td><td>57</td></tr><tr><td>&quot;octet-stream&quot;</td><td>12</td></tr><tr><td>&quot;png&quot;</td><td>1</td></tr><tr><td>&quot;jpeg&quot;</td><td>3</td></tr></tbody></table></div>"
      ],
      "text/plain": [
       "shape: (5, 2)\n",
       "┌──────────────┬───────┐\n",
       "│ file_type    ┆ count │\n",
       "│ ---          ┆ ---   │\n",
       "│ str          ┆ u32   │\n",
       "╞══════════════╪═══════╡\n",
       "│ mp4          ┆ 4     │\n",
       "│ pdf          ┆ 57    │\n",
       "│ octet-stream ┆ 12    │\n",
       "│ png          ┆ 1     │\n",
       "│ jpeg         ┆ 3     │\n",
       "└──────────────┴───────┘"
      ]
     },
     "execution_count": 18,
     "metadata": {},
     "output_type": "execute_result"
    }
   ],
   "source": [
    "with duckdb.connect(f\"{pipeline_name}.duckdb\", read_only=False) as db:\n",
    "    df_downloads = db.sql(f\"SELECT * FROM {db_name}.downloads\").pl()\n",
    "\n",
    "assert len(df_downloads) == len(df_downloads[\"data_id\"].unique())\n",
    "\n",
    "df_downloads[\"file_type\"].value_counts()"
   ]
  }
 ],
 "metadata": {
  "kernelspec": {
   "display_name": "schule-ein-interface-geben",
   "language": "python",
   "name": "python3"
  },
  "language_info": {
   "codemirror_mode": {
    "name": "ipython",
    "version": 3
   },
   "file_extension": ".py",
   "mimetype": "text/x-python",
   "name": "python",
   "nbconvert_exporter": "python",
   "pygments_lexer": "ipython3",
   "version": "3.12.7"
  }
 },
 "nbformat": 4,
 "nbformat_minor": 5
}
