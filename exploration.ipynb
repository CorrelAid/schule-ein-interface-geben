{
 "cells": [
  {
   "cell_type": "code",
   "execution_count": 1,
   "id": "df6ece11",
   "metadata": {},
   "outputs": [],
   "source": [
    "import duckdb\n",
    "import polars as pl\n",
    "import seaborn as sns\n",
    "import matplotlib.pyplot as plt\n",
    "import requests\n",
    "from anytree import RenderTree\n",
    "from lib.tree_functions import import_tree_from_json\n",
    "from lib.config import pipeline_name, db_name, tree_json_path\n",
    "import tempfile\n",
    "from lib import count_plot\n",
    "\n",
    "base_url = \"https://cdl-segg.fra1.cdn.digitaloceanspaces.com/cdl-segg/\""
   ]
  },
  {
   "cell_type": "markdown",
   "id": "c5433b09",
   "metadata": {},
   "source": [
    "### Download Section Tree"
   ]
  },
  {
   "cell_type": "code",
   "execution_count": 2,
   "id": "06b71170",
   "metadata": {},
   "outputs": [
    {
     "name": "stdout",
     "output_type": "stream",
     "text": [
      "Pimp my School Downloads (36)\n",
      "├── 1.1. Was ist Schülervertretungsarbeit (38)\n",
      "├── 1.2. Rechtliche Grundlagen (39)\n",
      "│   ├── Mecklenburg-Vorpommern (41)\n",
      "│   ├── Besonderheiten an einzelnen Schulformen (42)\n",
      "│   │   └── Oberstufenzentren (OSZ) (159)\n",
      "│   ├── Nordrhein-Westfalen (52)\n",
      "│   │   └── Erlasse (55)\n",
      "│   ├── Sachsen-Anhalt (53)\n",
      "│   ├── Berlin (56)\n",
      "│   │   ├── Besonderheiten Berufsschulen (57)\n",
      "│   │   ├── Formales für Gremien (58)\n",
      "│   │   └── Schülervertretung in Bezirk und Land (59)\n",
      "│   ├── Hessen (132)\n",
      "│   └── Brandenburg (153)\n",
      "├── 1.3. Mögliche Aktionen, Themen und Projekte von A-Z (46)\n",
      "│   ├── Unterricht verändern (47)\n",
      "│   ├── Projektideensammlungen zur Inspiration (111)\n",
      "│   ├── Aktionen und Projekte (Beschreibungen) (51)\n",
      "│   │   ├── Lesenacht (105)\n",
      "│   │   ├── Party (106)\n",
      "│   │   ├── Schulball (107)\n",
      "│   │   ├── Schülernachhilfe-Pool (108)\n",
      "│   │   ├── Valentinstag (109)\n",
      "│   │   ├── Schülerfirma (160)\n",
      "│   │   └── Veranstaltungen (110)\n",
      "│   └── Klimaschutz & Nachhaltigkeit (161)\n",
      "├── 1.4. Rollen in der Schülervertretung (54)\n",
      "│   └── SV-Begleitung bzw. Verbindungs-/Vertrauenslehrkraft (133)\n",
      "├── 1.5. Zeit für SV-Arbeit (60)\n",
      "├── 1.6. (leer) Für Ungeduldige. Die 12 wichtigsten Tipps (61)\n",
      "├── 1.7. Unterstützung (62)\n",
      "│   ├── Arbeitshilfen für Bezirksschülervertretungen (Vorlagen) (86)\n",
      "│   ├── Handbücher (81)\n",
      "│   ├── Berlin (82)\n",
      "│   │   └── Positionspapiere (87)\n",
      "│   ├── Rheinland-Pfalz (84)\n",
      "│   ├── NRW (83)\n",
      "│   └── Thüringen (85)\n",
      "├── 2.1. Wahlen (63)\n",
      "│   ├── 2.1.1. Klassensprecher_innen (88)\n",
      "│   │   ├── Powerpoint-Vorlagen Klassensprecherwahl (91)\n",
      "│   │   └── Mappe für neu gewählte Klassensprecher_innen (154)\n",
      "│   ├── 2.1.2. Schülersprecher_innen (89)\n",
      "│   │   └── Mappe zur Schülersprecherwahl (156)\n",
      "│   └── 2.1.3. Gremienwahlen (90)\n",
      "├── 2.2. Einen guten Start gestalten (64)\n",
      "├── 2.3. Motivieren, einladen, einbinden (65)\n",
      "├── 2.4. Merkmale sv-freundlicher Schulen (66)\n",
      "├── 3.1. Zusammenarbeit im SV-Team oder -vorstand (68)\n",
      "│   └── Entscheidungsfindung (134)\n",
      "│       └── 3.2. Lebendige Sitzungen (69)\n",
      "│           ├── Anwesenheit (92)\n",
      "│           ├── Einladungen (93)\n",
      "│           ├── Energizer (94)\n",
      "│           ├── Feedback (95)\n",
      "│           ├── Methoden (96)\n",
      "│           ├── Moderation (97)\n",
      "│           ├── Planung (98)\n",
      "│           ├── Protokoll (99)\n",
      "│           └── Redelisten (100)\n",
      "├── 3.3. Projektarbeit (70)\n",
      "│   ├── Projektmanagement (101)\n",
      "│   ├── Vorlagen (103)\n",
      "│   └── Methoden (104)\n",
      "├── 3.4. Öffentlichkeitsarbeit (71)\n",
      "│   ├── Demonstrationen (113)\n",
      "│   ├── Logos (114)\n",
      "│   ├── Schülerzeitungen (115)\n",
      "│   ├── Schulradio (116)\n",
      "│   ├── SV-Info-Projekte (117)\n",
      "│   ├── SV-Newsletter (118)\n",
      "│   ├── Tag der offenen Tür (119)\n",
      "│   ├── Videos und Selbstvorstellungen (120)\n",
      "│   └── 3.5. Gremienarbeit (72)\n",
      "│       ├── Überzeugend präsentieren (Rhetorik) (122)\n",
      "│       └── Beispiele Anträge (121)\n",
      "├── 4.1. Finanzierung (73)\n",
      "│   ├── Spendenlauf (123)\n",
      "│   └── Sponsoren (124)\n",
      "├── 4.2. Wissen dokumentieren und Einarbeitung neuer SVler_innen (74)\n",
      "├── 4.3. (leer) Vernetzung (75)\n",
      "├── 4.4. Seminare planen und organisieren (76)\n",
      "│   ├── Beispiel-Abläufe und -Programme (125)\n",
      "│   ├── Methoden (151)\n",
      "│   │   ├── Austausch-Methoden (143)\n",
      "│   │   ├── Entscheidungsfindung (148)\n",
      "│   │   ├── Ideenfindungsmethoden (147)\n",
      "│   │   ├── Arbeit an Projekten & Themen (146)\n",
      "│   │   ├── Rechte auffrischen (138)\n",
      "│   │   ├── durchgehende Spiele, seminarbegleitend (137)\n",
      "│   │   ├── Spiele zwischendurch (139)\n",
      "│   │   ├── Kennenlernen / Teambuilding (136)\n",
      "│   │   │   ├── Teambuilding (140)\n",
      "│   │   │   └── Kennenlernspiele (141)\n",
      "│   │   │       └── Namensspiele (142)\n",
      "│   │   ├── (Zwischen-)Ergebnisse vorstellen (144)\n",
      "│   │   ├── Feedback-Methoden (152)\n",
      "│   │   └── Nachhaltigkeit absichern: Wie geht's weiter? (150)\n",
      "│   └── Seminarorganisation & -planung (135)\n",
      "├── 4.6. Feedbackkultur und Evaluation (79)\n",
      "└── 4.5. Reale politische Interessenvertretung statt Kuchenverkauf (80)\n",
      "    ├── Open Space, Barcamp, Zukunftswerkstatt (126)\n",
      "    └── Was tun bei Problemen mit Lehrer_innen (127)\n"
     ]
    }
   ],
   "source": [
    "tree_url = base_url + tree_json_path\n",
    "response = requests.get(tree_url)\n",
    "response.raise_for_status()\n",
    "with tempfile.NamedTemporaryFile(delete=False, suffix=\".json\") as temp_file:\n",
    "    temp_file.write(response.content)\n",
    "    path = temp_file.name\n",
    "    root_node = import_tree_from_json(path)\n",
    "\n",
    "for pre, fill, node in RenderTree(root_node):\n",
    "    print(f\"{pre}{node.name} ({node.data_id })\")"
   ]
  },
  {
   "cell_type": "markdown",
   "id": "6c5c7849",
   "metadata": {},
   "source": [
    "### Download Files"
   ]
  },
  {
   "cell_type": "code",
   "execution_count": 12,
   "id": "b9558ea0",
   "metadata": {},
   "outputs": [
    {
     "data": {
      "text/html": [
       "<div><style>\n",
       ".dataframe > thead > tr,\n",
       ".dataframe > tbody > tr {\n",
       "  text-align: right;\n",
       "  white-space: pre-wrap;\n",
       "}\n",
       "</style>\n",
       "<small>shape: (5, 6)</small><table border=\"1\" class=\"dataframe\"><thead><tr><th>data_id</th><th>data_category_id</th><th>title</th><th>category_title</th><th>download_link</th><th>file_type</th></tr><tr><td>i64</td><td>i64</td><td>str</td><td>str</td><td>str</td><td>str</td></tr></thead><tbody><tr><td>3900</td><td>86</td><td>&quot;Beurlaubung-Schüler_innen&quot;</td><td>&quot;Arbeitshilfen für Bezirksschu…</td><td>&quot;https://meinsvwissen.de/downlo…</td><td>&quot;pdf&quot;</td></tr><tr><td>4180</td><td>71</td><td>&quot;Vollversammlungen organisieren&quot;</td><td>&quot;3.4. Öffentlichkeitsarbeit&quot;</td><td>&quot;https://meinsvwissen.de/downlo…</td><td>&quot;pdf&quot;</td></tr><tr><td>3878</td><td>64</td><td>&quot;Aktionsplaner&quot;</td><td>&quot;2.2. Einen guten Start gestalt…</td><td>&quot;https://meinsvwissen.de/downlo…</td><td>&quot;pdf&quot;</td></tr><tr><td>3879</td><td>64</td><td>&quot;Gestaltung von SV-Seminaren. M…</td><td>&quot;2.2. Einen guten Start gestalt…</td><td>&quot;https://meinsvwissen.de/downlo…</td><td>&quot;pdf&quot;</td></tr><tr><td>3880</td><td>64</td><td>&quot;Was macht eine Schülervertretu…</td><td>&quot;2.2. Einen guten Start gestalt…</td><td>&quot;https://meinsvwissen.de/downlo…</td><td>&quot;mp4&quot;</td></tr></tbody></table></div>"
      ],
      "text/plain": [
       "shape: (5, 6)\n",
       "┌─────────┬──────────────────┬───────────────────┬──────────────────┬──────────────────┬───────────┐\n",
       "│ data_id ┆ data_category_id ┆ title             ┆ category_title   ┆ download_link    ┆ file_type │\n",
       "│ ---     ┆ ---              ┆ ---               ┆ ---              ┆ ---              ┆ ---       │\n",
       "│ i64     ┆ i64              ┆ str               ┆ str              ┆ str              ┆ str       │\n",
       "╞═════════╪══════════════════╪═══════════════════╪══════════════════╪══════════════════╪═══════════╡\n",
       "│ 3900    ┆ 86               ┆ Beurlaubung-Schül ┆ Arbeitshilfen    ┆ https://meinsvwi ┆ pdf       │\n",
       "│         ┆                  ┆ er_innen          ┆ für Bezirksschu… ┆ ssen.de/downlo…  ┆           │\n",
       "│ 4180    ┆ 71               ┆ Vollversammlungen ┆ 3.4. Öffentlichk ┆ https://meinsvwi ┆ pdf       │\n",
       "│         ┆                  ┆ organisieren      ┆ eitsarbeit       ┆ ssen.de/downlo…  ┆           │\n",
       "│ 3878    ┆ 64               ┆ Aktionsplaner     ┆ 2.2. Einen guten ┆ https://meinsvwi ┆ pdf       │\n",
       "│         ┆                  ┆                   ┆ Start gestalt…   ┆ ssen.de/downlo…  ┆           │\n",
       "│ 3879    ┆ 64               ┆ Gestaltung von    ┆ 2.2. Einen guten ┆ https://meinsvwi ┆ pdf       │\n",
       "│         ┆                  ┆ SV-Seminaren. M…  ┆ Start gestalt…   ┆ ssen.de/downlo…  ┆           │\n",
       "│ 3880    ┆ 64               ┆ Was macht eine    ┆ 2.2. Einen guten ┆ https://meinsvwi ┆ mp4       │\n",
       "│         ┆                  ┆ Schülervertretu…  ┆ Start gestalt…   ┆ ssen.de/downlo…  ┆           │\n",
       "└─────────┴──────────────────┴───────────────────┴──────────────────┴──────────────────┴───────────┘"
      ]
     },
     "execution_count": 12,
     "metadata": {},
     "output_type": "execute_result"
    }
   ],
   "source": [
    "posts_url = base_url + \"downloads.parquet\"\n",
    "response = requests.get(posts_url)\n",
    "response.raise_for_status()\n",
    "df = pl.read_parquet(response.content)\n",
    "df.head()"
   ]
  },
  {
   "cell_type": "code",
   "execution_count": 13,
   "id": "d89f659e",
   "metadata": {},
   "outputs": [
    {
     "data": {
      "text/html": [
       "<div><style>\n",
       ".dataframe > thead > tr,\n",
       ".dataframe > tbody > tr {\n",
       "  text-align: right;\n",
       "  white-space: pre-wrap;\n",
       "}\n",
       "</style>\n",
       "<small>shape: (5, 2)</small><table border=\"1\" class=\"dataframe\"><thead><tr><th>file_type</th><th>count</th></tr><tr><td>str</td><td>u32</td></tr></thead><tbody><tr><td>&quot;pdf&quot;</td><td>32</td></tr><tr><td>&quot;octet-stream&quot;</td><td>3</td></tr><tr><td>&quot;png&quot;</td><td>3</td></tr><tr><td>&quot;mp4&quot;</td><td>1</td></tr><tr><td>&quot;jpeg&quot;</td><td>1</td></tr></tbody></table></div>"
      ],
      "text/plain": [
       "shape: (5, 2)\n",
       "┌──────────────┬───────┐\n",
       "│ file_type    ┆ count │\n",
       "│ ---          ┆ ---   │\n",
       "│ str          ┆ u32   │\n",
       "╞══════════════╪═══════╡\n",
       "│ pdf          ┆ 32    │\n",
       "│ octet-stream ┆ 3     │\n",
       "│ png          ┆ 3     │\n",
       "│ mp4          ┆ 1     │\n",
       "│ jpeg         ┆ 1     │\n",
       "└──────────────┴───────┘"
      ]
     },
     "execution_count": 13,
     "metadata": {},
     "output_type": "execute_result"
    }
   ],
   "source": [
    "df[\"file_type\"].value_counts().sort(\"count\", descending=True)"
   ]
  },
  {
   "cell_type": "markdown",
   "id": "e4e4f742",
   "metadata": {},
   "source": [
    "### Posts"
   ]
  },
  {
   "cell_type": "code",
   "execution_count": 3,
   "id": "ebae3d73",
   "metadata": {},
   "outputs": [
    {
     "data": {
      "text/html": [
       "<div><style>\n",
       ".dataframe > thead > tr,\n",
       ".dataframe > tbody > tr {\n",
       "  text-align: right;\n",
       "  white-space: pre-wrap;\n",
       "}\n",
       "</style>\n",
       "<small>shape: (5, 10)</small><table border=\"1\" class=\"dataframe\"><thead><tr><th>id</th><th>date</th><th>title</th><th>stage</th><th>tool_types</th><th>topics</th><th>download_chapter_dedicated</th><th>download_chapters_further</th><th>book_chapter</th><th>related_posts</th></tr><tr><td>i64</td><td>date</td><td>str</td><td>str</td><td>list[cat]</td><td>list[str]</td><td>i64</td><td>list[i64]</td><td>str</td><td>list[i64]</td></tr></thead><tbody><tr><td>6974</td><td>2023-06-04</td><td>&quot;Anträge&quot;</td><td>&quot;fortgeschrittene&quot;</td><td>[&quot;methode&quot;]</td><td>[]</td><td>null</td><td>[121]</td><td>null</td><td>[]</td></tr><tr><td>6982</td><td>2023-06-04</td><td>&quot;Klassensprecher_innen&quot;</td><td>&quot;grundlagen&quot;</td><td>[&quot;praesentation&quot;]</td><td>[&quot;rechte&quot;]</td><td>null</td><td>[39]</td><td>null</td><td>[3549, 5319, 3193]</td></tr><tr><td>6198</td><td>2025-07-16</td><td>&quot;SV-Sitzungen&quot;</td><td>&quot;sv-alltag&quot;</td><td>[&quot;praesentation&quot;]</td><td>[&quot;ideenfindung&quot;, &quot;motivation&quot;, &quot;sitzungen&quot;]</td><td>69</td><td>[69]</td><td>&quot;https://meinsvwissen.de/wp-con…</td><td>[5304, 6198, … 4946]</td></tr><tr><td>7303</td><td>2024-08-24</td><td>&quot;Schulkonferenz &amp;#8211; Erklärv…</td><td>&quot;grundlagen&quot;</td><td>[&quot;video&quot;]</td><td>[&quot;gremien&quot;, &quot;rechte&quot;, &quot;wahlen&quot;]</td><td>null</td><td>[]</td><td>null</td><td>[7081, 5319, … 8395]</td></tr><tr><td>7700</td><td>2025-06-29</td><td>&quot;Öffentlichkeitsarbeit der SV&quot;</td><td>&quot;sv-alltag&quot;</td><td>[&quot;infografik&quot;]</td><td>[]</td><td>71</td><td>[]</td><td>null</td><td>[7700, 6540, … 6760]</td></tr></tbody></table></div>"
      ],
      "text/plain": [
       "shape: (5, 10)\n",
       "┌──────┬────────────┬────────────┬────────────┬───┬────────────┬───────────┬───────────┬───────────┐\n",
       "│ id   ┆ date       ┆ title      ┆ stage      ┆ … ┆ download_c ┆ download_ ┆ book_chap ┆ related_p │\n",
       "│ ---  ┆ ---        ┆ ---        ┆ ---        ┆   ┆ hapter_ded ┆ chapters_ ┆ ter       ┆ osts      │\n",
       "│ i64  ┆ date       ┆ str        ┆ str        ┆   ┆ icated     ┆ further   ┆ ---       ┆ ---       │\n",
       "│      ┆            ┆            ┆            ┆   ┆ ---        ┆ ---       ┆ str       ┆ list[i64] │\n",
       "│      ┆            ┆            ┆            ┆   ┆ i64        ┆ list[i64] ┆           ┆           │\n",
       "╞══════╪════════════╪════════════╪════════════╪═══╪════════════╪═══════════╪═══════════╪═══════════╡\n",
       "│ 6974 ┆ 2023-06-04 ┆ Anträge    ┆ fortgeschr ┆ … ┆ null       ┆ [121]     ┆ null      ┆ []        │\n",
       "│      ┆            ┆            ┆ ittene     ┆   ┆            ┆           ┆           ┆           │\n",
       "│ 6982 ┆ 2023-06-04 ┆ Klassenspr ┆ grundlagen ┆ … ┆ null       ┆ [39]      ┆ null      ┆ [3549,    │\n",
       "│      ┆            ┆ echer_inne ┆            ┆   ┆            ┆           ┆           ┆ 5319,     │\n",
       "│      ┆            ┆ n          ┆            ┆   ┆            ┆           ┆           ┆ 3193]     │\n",
       "│ 6198 ┆ 2025-07-16 ┆ SV-Sitzung ┆ sv-alltag  ┆ … ┆ 69         ┆ [69]      ┆ https://m ┆ [5304,    │\n",
       "│      ┆            ┆ en         ┆            ┆   ┆            ┆           ┆ einsvwiss ┆ 6198, …   │\n",
       "│      ┆            ┆            ┆            ┆   ┆            ┆           ┆ en.de/wp- ┆ 4946]     │\n",
       "│      ┆            ┆            ┆            ┆   ┆            ┆           ┆ con…      ┆           │\n",
       "│ 7303 ┆ 2024-08-24 ┆ Schulkonfe ┆ grundlagen ┆ … ┆ null       ┆ []        ┆ null      ┆ [7081,    │\n",
       "│      ┆            ┆ renz       ┆            ┆   ┆            ┆           ┆           ┆ 5319, …   │\n",
       "│      ┆            ┆ &#8211;    ┆            ┆   ┆            ┆           ┆           ┆ 8395]     │\n",
       "│      ┆            ┆ Erklärv…   ┆            ┆   ┆            ┆           ┆           ┆           │\n",
       "│ 7700 ┆ 2025-06-29 ┆ Öffentlich ┆ sv-alltag  ┆ … ┆ 71         ┆ []        ┆ null      ┆ [7700,    │\n",
       "│      ┆            ┆ keitsarbei ┆            ┆   ┆            ┆           ┆           ┆ 6540, …   │\n",
       "│      ┆            ┆ t der SV   ┆            ┆   ┆            ┆           ┆           ┆ 6760]     │\n",
       "└──────┴────────────┴────────────┴────────────┴───┴────────────┴───────────┴───────────┴───────────┘"
      ]
     },
     "execution_count": 3,
     "metadata": {},
     "output_type": "execute_result"
    }
   ],
   "source": [
    "posts_url = base_url + \"posts.parquet\"\n",
    "response = requests.get(posts_url)\n",
    "response.raise_for_status()\n",
    "df = pl.read_parquet(response.content)\n",
    "df.head()"
   ]
  },
  {
   "cell_type": "code",
   "execution_count": 4,
   "id": "2d10ace4",
   "metadata": {},
   "outputs": [
    {
     "data": {
      "text/html": [
       "<div><style>\n",
       ".dataframe > thead > tr,\n",
       ".dataframe > tbody > tr {\n",
       "  text-align: right;\n",
       "  white-space: pre-wrap;\n",
       "}\n",
       "</style>\n",
       "<small>shape: (5, 2)</small><table border=\"1\" class=\"dataframe\"><thead><tr><th>stage</th><th>count</th></tr><tr><td>str</td><td>u32</td></tr></thead><tbody><tr><td>&quot;grundlagen&quot;</td><td>11</td></tr><tr><td>&quot;profis&quot;</td><td>4</td></tr><tr><td>&quot;sv-alltag&quot;</td><td>3</td></tr><tr><td>&quot;fortgeschrittene&quot;</td><td>1</td></tr><tr><td>null</td><td>1</td></tr></tbody></table></div>"
      ],
      "text/plain": [
       "shape: (5, 2)\n",
       "┌──────────────────┬───────┐\n",
       "│ stage            ┆ count │\n",
       "│ ---              ┆ ---   │\n",
       "│ str              ┆ u32   │\n",
       "╞══════════════════╪═══════╡\n",
       "│ grundlagen       ┆ 11    │\n",
       "│ profis           ┆ 4     │\n",
       "│ sv-alltag        ┆ 3     │\n",
       "│ fortgeschrittene ┆ 1     │\n",
       "│ null             ┆ 1     │\n",
       "└──────────────────┴───────┘"
      ]
     },
     "execution_count": 4,
     "metadata": {},
     "output_type": "execute_result"
    }
   ],
   "source": [
    "df[\"stage\"].value_counts().sort(\"count\", descending=True)"
   ]
  },
  {
   "cell_type": "code",
   "execution_count": 5,
   "id": "b3501560",
   "metadata": {},
   "outputs": [
    {
     "data": {
      "text/plain": [
       "['profis', 'grundlagen', 'sv-alltag', None, 'fortgeschrittene']"
      ]
     },
     "execution_count": 5,
     "metadata": {},
     "output_type": "execute_result"
    }
   ],
   "source": [
    "df[\"stage\"].unique().to_list()"
   ]
  },
  {
   "cell_type": "code",
   "execution_count": 6,
   "id": "79afec31",
   "metadata": {},
   "outputs": [
    {
     "data": {
      "image/png": "[encoded data removed]",
      "text/plain": [
       "<Figure size 640x480 with 1 Axes>"
      ]
     },
     "metadata": {},
     "output_type": "display_data"
    }
   ],
   "source": [
    "count_plot(df, \"tool_types\")"
   ]
  },
  {
   "cell_type": "code",
   "execution_count": 7,
   "id": "521bd2cb",
   "metadata": {},
   "outputs": [
    {
     "data": {
      "image/png": "[encoded data removed]",
      "text/plain": [
       "<Figure size 640x480 with 1 Axes>"
      ]
     },
     "metadata": {},
     "output_type": "display_data"
    }
   ],
   "source": [
    "count_plot(df, \"topics\")"
   ]
  },
  {
   "cell_type": "markdown",
   "id": "f7a6e4ec",
   "metadata": {},
   "source": [
    "### Sections"
   ]
  },
  {
   "cell_type": "code",
   "execution_count": 8,
   "id": "f48183e9",
   "metadata": {},
   "outputs": [
    {
     "data": {
      "text/html": [
       "<div><style>\n",
       ".dataframe > thead > tr,\n",
       ".dataframe > tbody > tr {\n",
       "  text-align: right;\n",
       "  white-space: pre-wrap;\n",
       "}\n",
       "</style>\n",
       "<small>shape: (5, 5)</small><table border=\"1\" class=\"dataframe\"><thead><tr><th>post_id</th><th>title</th><th>text</th><th>type</th><th>external_link</th></tr><tr><td>i64</td><td>str</td><td>str</td><td>cat</td><td>str</td></tr></thead><tbody><tr><td>6198</td><td>null</td><td>&quot;Regelmäßige, gut strukturierte…</td><td>&quot;plain_text&quot;</td><td>null</td></tr><tr><td>6198</td><td>null</td><td>null</td><td>&quot;prezi&quot;</td><td>&quot;https://prezi.com/p/embed/4p3r…</td></tr><tr><td>6987</td><td>null</td><td>&quot;Wir haben für euch Möglichkeit…</td><td>&quot;plain_text&quot;</td><td>null</td></tr><tr><td>6987</td><td>null</td><td>&quot;*Nutze die Pfeiltasten, um in …</td><td>&quot;plain_text&quot;</td><td>null</td></tr><tr><td>6987</td><td>null</td><td>null</td><td>&quot;prezi&quot;</td><td>&quot;https://prezi.com/p/embed/ChP2…</td></tr></tbody></table></div>"
      ],
      "text/plain": [
       "shape: (5, 5)\n",
       "┌─────────┬───────┬─────────────────────────────────┬────────────┬─────────────────────────────────┐\n",
       "│ post_id ┆ title ┆ text                            ┆ type       ┆ external_link                   │\n",
       "│ ---     ┆ ---   ┆ ---                             ┆ ---        ┆ ---                             │\n",
       "│ i64     ┆ str   ┆ str                             ┆ cat        ┆ str                             │\n",
       "╞═════════╪═══════╪═════════════════════════════════╪════════════╪═════════════════════════════════╡\n",
       "│ 6198    ┆ null  ┆ Regelmäßige, gut strukturierte… ┆ plain_text ┆ null                            │\n",
       "│ 6198    ┆ null  ┆ null                            ┆ prezi      ┆ https://prezi.com/p/embed/4p3r… │\n",
       "│ 6987    ┆ null  ┆ Wir haben für euch Möglichkeit… ┆ plain_text ┆ null                            │\n",
       "│ 6987    ┆ null  ┆ *Nutze die Pfeiltasten, um in … ┆ plain_text ┆ null                            │\n",
       "│ 6987    ┆ null  ┆ null                            ┆ prezi      ┆ https://prezi.com/p/embed/ChP2… │\n",
       "└─────────┴───────┴─────────────────────────────────┴────────────┴─────────────────────────────────┘"
      ]
     },
     "execution_count": 8,
     "metadata": {},
     "output_type": "execute_result"
    }
   ],
   "source": [
    "posts_url = base_url + \"sections.parquet\"\n",
    "response = requests.get(posts_url)\n",
    "response.raise_for_status()\n",
    "df = pl.read_parquet(response.content)\n",
    "df.head()"
   ]
  },
  {
   "cell_type": "code",
   "execution_count": 11,
   "id": "afa2f6ab",
   "metadata": {},
   "outputs": [
    {
     "data": {
      "text/html": [
       "<div><style>\n",
       ".dataframe > thead > tr,\n",
       ".dataframe > tbody > tr {\n",
       "  text-align: right;\n",
       "  white-space: pre-wrap;\n",
       "}\n",
       "</style>\n",
       "<small>shape: (5, 2)</small><table border=\"1\" class=\"dataframe\"><thead><tr><th>type</th><th>count</th></tr><tr><td>cat</td><td>u32</td></tr></thead><tbody><tr><td>&quot;plain_text&quot;</td><td>5</td></tr><tr><td>&quot;prezi&quot;</td><td>3</td></tr><tr><td>&quot;accordion_section_text&quot;</td><td>2</td></tr><tr><td>&quot;accordion_section_image&quot;</td><td>1</td></tr><tr><td>&quot;image&quot;</td><td>1</td></tr></tbody></table></div>"
      ],
      "text/plain": [
       "shape: (5, 2)\n",
       "┌─────────────────────────┬───────┐\n",
       "│ type                    ┆ count │\n",
       "│ ---                     ┆ ---   │\n",
       "│ cat                     ┆ u32   │\n",
       "╞═════════════════════════╪═══════╡\n",
       "│ plain_text              ┆ 5     │\n",
       "│ prezi                   ┆ 3     │\n",
       "│ accordion_section_text  ┆ 2     │\n",
       "│ accordion_section_image ┆ 1     │\n",
       "│ image                   ┆ 1     │\n",
       "└─────────────────────────┴───────┘"
      ]
     },
     "execution_count": 11,
     "metadata": {},
     "output_type": "execute_result"
    }
   ],
   "source": [
    "df[\"type\"].value_counts().sort(\"count\", descending=True)"
   ]
  },
  {
   "cell_type": "markdown",
   "id": "e2650c3a",
   "metadata": {},
   "source": [
    "### Glossary Terms"
   ]
  },
  {
   "cell_type": "code",
   "execution_count": 14,
   "id": "6300dda0",
   "metadata": {},
   "outputs": [
    {
     "data": {
      "text/html": [
       "<div><style>\n",
       ".dataframe > thead > tr,\n",
       ".dataframe > tbody > tr {\n",
       "  text-align: right;\n",
       "  white-space: pre-wrap;\n",
       "}\n",
       "</style>\n",
       "<small>shape: (5, 19)</small><table border=\"1\" class=\"dataframe\"><thead><tr><th>term</th><th>definition</th><th>DE</th><th>DE_BW</th><th>DE_BY</th><th>DE_BE</th><th>DE_BB</th><th>DE_HB</th><th>DE_HH</th><th>DE_HE</th><th>DE_MV</th><th>DE_NI</th><th>DE_NW</th><th>DE_RP</th><th>DE_SL</th><th>DE_SN</th><th>DE_ST</th><th>DE_SH</th><th>DE_TH</th></tr><tr><td>str</td><td>str</td><td>str</td><td>str</td><td>str</td><td>str</td><td>str</td><td>str</td><td>str</td><td>str</td><td>str</td><td>str</td><td>str</td><td>str</td><td>str</td><td>str</td><td>str</td><td>str</td><td>str</td></tr></thead><tbody><tr><td>&quot;Antrag&quot;</td><td>&quot;Ein Antrag ist ein Vorschlag, …</td><td>null</td><td>null</td><td>null</td><td>null</td><td>null</td><td>null</td><td>null</td><td>null</td><td>null</td><td>null</td><td>null</td><td>null</td><td>null</td><td>null</td><td>null</td><td>null</td><td>null</td></tr><tr><td>&quot;Aufgabenprofil&quot;</td><td>&quot;None&quot;</td><td>&quot;Ihr schreibt transparent und k…</td><td>&quot;None&quot;</td><td>&quot;None&quot;</td><td>&quot;None&quot;</td><td>&quot;None&quot;</td><td>&quot;None&quot;</td><td>&quot;None&quot;</td><td>&quot;None&quot;</td><td>&quot;None&quot;</td><td>&quot;None&quot;</td><td>&quot;None&quot;</td><td>&quot;None&quot;</td><td>&quot;None&quot;</td><td>&quot;None&quot;</td><td>&quot;None&quot;</td><td>&quot;None&quot;</td><td>&quot;None&quot;</td></tr><tr><td>&quot;Auftaktveranstaltung / SV-Tag&quot;</td><td>&quot;Start in die SV-Arbeit zu Begi…</td><td>&quot;Start in die SV-Arbeit zu Begi…</td><td>null</td><td>null</td><td>null</td><td>null</td><td>null</td><td>null</td><td>null</td><td>null</td><td>null</td><td>null</td><td>null</td><td>null</td><td>null</td><td>null</td><td>null</td><td>null</td></tr><tr><td>&quot;Bezirks-/ Kreis &amp; Landesschüle…</td><td>null</td><td>&quot;BSK (Bundesschülerkonferenz – …</td><td>null</td><td>null</td><td>&quot;BSA und LSA (Bezirksschüler- u…</td><td>&quot;KSR und LSR (Kreisschüler- und…</td><td>null</td><td>null</td><td>null</td><td>&quot;KSR und LSR (Kreisschüler- und…</td><td>null</td><td>&quot;BSV und LSV (Bezirksschüler- u…</td><td>null</td><td>null</td><td>null</td><td>&quot;KSR und LSR (Kreisschüler- und…</td><td>null</td><td>&quot;Kreisschülersprecher:innen und…</td></tr><tr><td>&quot;BSK&quot;</td><td>&quot;Bundesschülerkonferenz. Sie be…</td><td>&quot;Bundesschülerkonferenz. Sie be…</td><td>null</td><td>null</td><td>null</td><td>null</td><td>null</td><td>null</td><td>null</td><td>null</td><td>null</td><td>null</td><td>null</td><td>null</td><td>null</td><td>null</td><td>null</td><td>null</td></tr></tbody></table></div>"
      ],
      "text/plain": [
       "shape: (5, 19)\n",
       "┌──────────────┬─────────────┬─────────────┬───────┬───┬───────┬─────────────┬───────┬─────────────┐\n",
       "│ term         ┆ definition  ┆ DE          ┆ DE_BW ┆ … ┆ DE_SN ┆ DE_ST       ┆ DE_SH ┆ DE_TH       │\n",
       "│ ---          ┆ ---         ┆ ---         ┆ ---   ┆   ┆ ---   ┆ ---         ┆ ---   ┆ ---         │\n",
       "│ str          ┆ str         ┆ str         ┆ str   ┆   ┆ str   ┆ str         ┆ str   ┆ str         │\n",
       "╞══════════════╪═════════════╪═════════════╪═══════╪═══╪═══════╪═════════════╪═══════╪═════════════╡\n",
       "│ Antrag       ┆ Ein Antrag  ┆ null        ┆ null  ┆ … ┆ null  ┆ null        ┆ null  ┆ null        │\n",
       "│              ┆ ist ein     ┆             ┆       ┆   ┆       ┆             ┆       ┆             │\n",
       "│              ┆ Vorschlag,  ┆             ┆       ┆   ┆       ┆             ┆       ┆             │\n",
       "│              ┆ …           ┆             ┆       ┆   ┆       ┆             ┆       ┆             │\n",
       "│ Aufgabenprof ┆ None        ┆ Ihr         ┆ None  ┆ … ┆ None  ┆ None        ┆ None  ┆ None        │\n",
       "│ il           ┆             ┆ schreibt    ┆       ┆   ┆       ┆             ┆       ┆             │\n",
       "│              ┆             ┆ transparent ┆       ┆   ┆       ┆             ┆       ┆             │\n",
       "│              ┆             ┆ und k…      ┆       ┆   ┆       ┆             ┆       ┆             │\n",
       "│ Auftaktveran ┆ Start in    ┆ Start in    ┆ null  ┆ … ┆ null  ┆ null        ┆ null  ┆ null        │\n",
       "│ staltung /   ┆ die         ┆ die         ┆       ┆   ┆       ┆             ┆       ┆             │\n",
       "│ SV-Tag       ┆ SV-Arbeit   ┆ SV-Arbeit   ┆       ┆   ┆       ┆             ┆       ┆             │\n",
       "│              ┆ zu Begi…    ┆ zu Begi…    ┆       ┆   ┆       ┆             ┆       ┆             │\n",
       "│ Bezirks-/    ┆ null        ┆ BSK (Bundes ┆ null  ┆ … ┆ null  ┆ KSR und LSR ┆ null  ┆ Kreisschüle │\n",
       "│ Kreis & Land ┆             ┆ schülerkonf ┆       ┆   ┆       ┆ (Kreisschül ┆       ┆ rsprecher:i │\n",
       "│ esschüle…    ┆             ┆ erenz – …   ┆       ┆   ┆       ┆ er- und…    ┆       ┆ nnen und…   │\n",
       "│ BSK          ┆ Bundesschül ┆ Bundesschül ┆ null  ┆ … ┆ null  ┆ null        ┆ null  ┆ null        │\n",
       "│              ┆ erkonferenz ┆ erkonferenz ┆       ┆   ┆       ┆             ┆       ┆             │\n",
       "│              ┆ . Sie be…   ┆ . Sie be…   ┆       ┆   ┆       ┆             ┆       ┆             │\n",
       "└──────────────┴─────────────┴─────────────┴───────┴───┴───────┴─────────────┴───────┴─────────────┘"
      ]
     },
     "execution_count": 14,
     "metadata": {},
     "output_type": "execute_result"
    }
   ],
   "source": [
    "posts_url = base_url + \"glossary_terms.parquet\"\n",
    "response = requests.get(posts_url)\n",
    "response.raise_for_status()\n",
    "df = pl.read_parquet(response.content)\n",
    "df.head()"
   ]
  }
 ],
 "metadata": {
  "kernelspec": {
   "display_name": "schule-ein-interface-geben",
   "language": "python",
   "name": "python3"
  },
  "language_info": {
   "codemirror_mode": {
    "name": "ipython",
    "version": 3
   },
   "file_extension": ".py",
   "mimetype": "text/x-python",
   "name": "python",
   "nbconvert_exporter": "python",
   "pygments_lexer": "ipython3",
   "version": "3.12.7"
  }
 },
 "nbformat": 4,
 "nbformat_minor": 5
}
